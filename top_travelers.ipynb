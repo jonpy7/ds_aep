{
 "cells": [
  {
   "cell_type": "markdown",
   "metadata": {},
   "source": [
    "# Top Travelers\n",
    "\n",
    "Write a solution to report the distance traveled by each user.\n",
    "\n",
    "Return the result table ordered by travelled_distance in descending order, if two or more users traveled the same distance, order them by their name in ascending order.\n",
    "\n",
    "The result format is in the following example.\n",
    "\n",
    "**Example 1:**\n",
    "```\n",
    "Input: \n",
    "Users table:\n",
    "+------+-----------+\n",
    "| id   | name      |\n",
    "+------+-----------+\n",
    "| 1    | Alice     |\n",
    "| 2    | Bob       |\n",
    "| 3    | Alex      |\n",
    "| 4    | Donald    |\n",
    "| 7    | Lee       |\n",
    "| 13   | Jonathan  |\n",
    "| 19   | Elvis     |\n",
    "+------+-----------+\n",
    "\n",
    "Rides table:\n",
    "+------+----------+----------+\n",
    "| id   | user_id  | distance |\n",
    "+------+----------+----------+\n",
    "| 1    | 1        | 120      |\n",
    "| 2    | 2        | 317      |\n",
    "| 3    | 3        | 222      |\n",
    "| 4    | 7        | 100      |\n",
    "| 5    | 13       | 312      |\n",
    "| 6    | 19       | 50       |\n",
    "| 7    | 7        | 120      |\n",
    "| 8    | 19       | 400      |\n",
    "| 9    | 7        | 230      |\n",
    "+------+----------+----------+\n",
    "\n",
    "Output: \n",
    "+----------+--------------------+\n",
    "| name     | travelled_distance |\n",
    "+----------+--------------------+\n",
    "| Elvis    | 450                |\n",
    "| Lee      | 450                |\n",
    "| Bob      | 317                |\n",
    "| Jonathan | 312                |\n",
    "| Alex     | 222                |\n",
    "| Alice    | 120                |\n",
    "| Donald   | 0                  |\n",
    "+----------+--------------------+\n",
    "```\n",
    "Explanation: \n",
    "Elvis and Lee traveled 450 miles, Elvis is the top traveler as his name is alphabetically smaller than Lee.\n",
    "Bob, Jonathan, Alex, and Alice have only one ride and we just order them by the total distances of the ride.\n",
    "Donald did not have any rides, the distance traveled by him is 0.\n",
    "\n",
    "Once you have implemented your solution, run the code block containing your `top_travellers` function. Be sure that your function [returns](https://www.geeksforgeeks.org/python-return-statement/) a dataframe, and doesn't simply print."
   ]
  },
  {
   "cell_type": "code",
   "execution_count": 28,
   "metadata": {},
   "outputs": [],
   "source": [
    "import pandas as pd\n",
    "\n",
    "def top_travellers(users, rides):\n",
    "    # Group rides by user_id and sum distances\n",
    "    grouped_rides = rides.groupby(\"user_id\").sum()\n",
    "\n",
    "    # Merge users with the grouped rides\n",
    "    merged = pd.merge(users, grouped_rides, how=\"left\", left_on=\"id\", right_on=\"user_id\")[[\"name\", \"distance\"]]\n",
    "\n",
    "    # Rename the columns\n",
    "    merged.columns = [\"name\", \"travelled_distance\"]\n",
    "\n",
    "    # Fill missing travelled_distance with 0 and convert to integers\n",
    "    merged[\"travelled_distance\"] = merged[\"travelled_distance\"].fillna(0).astype(int)\n",
    "\n",
    "    # Sort by travelled_distance (descending) and name (ascending)\n",
    "    return merged.sort_values(by=[\"travelled_distance\", \"name\"], ascending=[False, True])\n"
   ]
  },
  {
   "cell_type": "code",
   "execution_count": 30,
   "metadata": {},
   "outputs": [],
   "source": [
    "import pandas as pd\n",
    "\n",
    "def top_travellers(users, rides):\n",
    "    # Group rides by user_id and sum distances\n",
    "    grouped_rides = rides.groupby(\"user_id\").sum()\n",
    "\n",
    "    # Merge users with the grouped rides\n",
    "    merged = pd.merge(users, grouped_rides, how=\"left\", left_on=\"id\", right_on=\"user_id\")[[\"name\", \"distance\"]]\n",
    "\n",
    "    # Rename the columns\n",
    "    merged.columns = [\"name\", \"travelled_distance\"]\n",
    "\n",
    "    # Fill missing travelled_distance with 0 and convert to integers\n",
    "    merged[\"travelled_distance\"] = merged[\"travelled_distance\"].fillna(0).astype(int)\n",
    "\n",
    "    # Sort by travelled_distance (descending) and name (ascending)\n",
    "    result = merged.sort_values(by=[\"travelled_distance\", \"name\"], ascending=[False, True])\n",
    "\n",
    "    # Reset the index of the DataFrame\n",
    "    result = result.reset_index(drop=True)\n",
    "\n",
    "    return result\n"
   ]
  },
  {
   "cell_type": "markdown",
   "metadata": {},
   "source": [
    "## Test Block\n",
    "\n",
    "**NOTE: Before running the code block below, please be sure that the function you implemented above runs successfully (i.e. a green check-mark appears when running your code)**\n",
    "\n",
    "Run the following block of code to test your `top_travellers` function. If all cases evaluate to true, your code is functioning correctly!"
   ]
  },
  {
   "cell_type": "code",
   "execution_count": 31,
   "metadata": {},
   "outputs": [
    {
     "name": "stdout",
     "output_type": "stream",
     "text": [
      "Output\n",
      ":        name  travelled_distance\n",
      "0     Elvis                 450\n",
      "1       Lee                 450\n",
      "2       Bob                 317\n",
      "3  Jonathan                 312\n",
      "4      Alex                 222\n",
      "5     Alice                 120\n",
      "6    Donald                   0\n",
      "Test case 1: True\n"
     ]
    }
   ],
   "source": [
    "from tests import test_top\n",
    "\n",
    "users = pd.read_csv(\"data/users.csv\")\n",
    "rides = pd.read_csv(\"data/rides.csv\")\n",
    "\n",
    "output = top_travellers(users, rides)\n",
    "result1 = test_top.test1(output)\n",
    "\n",
    "print(\"Output\\n:\", output)\n",
    "print(\"Test case 1:\", result1)"
   ]
  }
 ],
 "metadata": {
  "kernelspec": {
   "display_name": "base",
   "language": "python",
   "name": "python3"
  },
  "language_info": {
   "codemirror_mode": {
    "name": "ipython",
    "version": 3
   },
   "file_extension": ".py",
   "mimetype": "text/x-python",
   "name": "python",
   "nbconvert_exporter": "python",
   "pygments_lexer": "ipython3",
   "version": "3.9.6"
  }
 },
 "nbformat": 4,
 "nbformat_minor": 2
}
